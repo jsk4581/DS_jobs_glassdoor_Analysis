{
  "nbformat": 4,
  "nbformat_minor": 0,
  "metadata": {
    "colab": {
      "provenance": []
    },
    "kernelspec": {
      "name": "python3",
      "display_name": "Python 3"
    },
    "language_info": {
      "name": "python"
    }
  },
  "cells": [
    {
      "cell_type": "markdown",
      "source": [
        "# Glassdoor 데이터 전처리\n",
        "\n",
        "- **Type of ownership**: 기업의 소유 형태를 3가지 그룹으로 단순화\n",
        "- **Rating**: 기업 평점의 이상치를 제거하고 평균값으로 대체"
      ],
      "metadata": {
        "id": "xTQni_fJ8Vse"
      }
    },
    {
      "cell_type": "code",
      "source": [
        "import pandas as pd\n",
        "import numpy as np\n",
        "\n",
        "# 데이터 로드\n",
        "df = pd.read_csv('glassdoor_jobs.csv')"
      ],
      "metadata": {
        "id": "7U_D55a-8aPY"
      },
      "execution_count": 2,
      "outputs": []
    },
    {
      "cell_type": "markdown",
      "source": [
        "## Type of ownership 전처리\n",
        "\n",
        "기업의 소유 유형을 다음 기준으로 단순화:\n",
        "- **Private**: 사기업, 자회사, 계약직, 개인 회사\n",
        "- **Public**: 상장사\n",
        "- **Public Service**: 정부, 비영리, 교육, 병원"
      ],
      "metadata": {
        "id": "XYpjPWnP8rgV"
      }
    },
    {
      "cell_type": "code",
      "source": [
        "# ─────────────────────────────────────────────\n",
        "# Type of ownership 전처리\n",
        "# ─────────────────────────────────────────────\n",
        "print(\"[Type of ownership] 원본 유니크 값 및 개수:\")\n",
        "print(df['Type of ownership'].value_counts(dropna=False), \"\\n\")\n",
        "\n",
        "# 최빈값 계산 (결측 대체용)\n",
        "most_common_ownership = df['Type of ownership'].mode()[0]\n",
        "print(f\"최빈값: '{most_common_ownership}'\\n\")\n",
        "\n",
        "# 전처리 함수 정의\n",
        "def classify_ownership(value):\n",
        "    # - \"-1\", \"Unknown\", \"Other Organization\"은 실제 기업 구조 파악 불가\n",
        "    # - 단순히 제거하거나 Others로 둘 경우 분석/모델링에서 해석성 및 예측 안정성 저하\n",
        "    # - 최빈값으로 대체하여 데이터 누락 없이 편입\n",
        "    if value in [\"-1\", \"Unknown\", \"Other Organization\"]:\n",
        "        value = most_common_ownership\n",
        "\n",
        "    # Private 그룹\n",
        "    # - \"Company - Private\": 사기업\n",
        "    # - \"Subsidiary or Business Segment\": 대부분 상위 사기업 소속\n",
        "    # - \"Contract\": 사기업 중심의 고용 형태\n",
        "    # - \"Private Practice / Firm\": 소규모 독립 사기업으로 판단\n",
        "    # 따라서 이들은 \"Private\"으로 통합\n",
        "    if value in [\n",
        "        \"Company - Private\", \"Subsidiary or Business Segment\",\n",
        "        \"Contract\", \"Private Practice / Firm\"\n",
        "    ]:\n",
        "        return \"Private\"\n",
        "\n",
        "    # Public 그룹\n",
        "    # - \"Company - Public\": 상장 대기업 또는 주식 공개 기업\n",
        "    # 독립적인 경제적 규모와 해석을 위해 그룹 유지\n",
        "    elif value == \"Company - Public\":\n",
        "        return \"Public\"\n",
        "\n",
        "    # Public Service 그룹\n",
        "    # - \"Nonprofit Organization\": 공익 목적\n",
        "    # - \"Government\": 공공 부문\n",
        "    # - \"Hospital\": 보건 서비스\n",
        "    # - \"College / University\", \"School / School District\": 교육 기관\n",
        "    # 모두 공공 목적 중심으로, 유사한 고용 특성 고려\n",
        "    elif value in [\n",
        "        \"Nonprofit Organization\", \"Government\",\n",
        "        \"Hospital\", \"College / University\", \"School / School District\"\n",
        "    ]:\n",
        "        return \"Public Service\"\n",
        "\n",
        "# 새로운 피쳐 생성\n",
        "df['Ownership_Grouped'] = df['Type of ownership'].apply(classify_ownership)\n",
        "\n",
        "# 결과 출력\n",
        "print(\"[Ownership_Grouped] 전처리 결과:\")\n",
        "print(df['Ownership_Grouped'].value_counts(), \"\\n\")"
      ],
      "metadata": {
        "colab": {
          "base_uri": "https://localhost:8080/"
        },
        "id": "4XOaCvaR8u7C",
        "outputId": "de1c2996-cc81-4cad-fa87-2bc937ffdd17"
      },
      "execution_count": 3,
      "outputs": [
        {
          "output_type": "stream",
          "name": "stdout",
          "text": [
            "[Type of ownership] 원본 유니크 값 및 개수:\n",
            "Type of ownership\n",
            "Company - Private                 532\n",
            "Company - Public                  237\n",
            "Nonprofit Organization             65\n",
            "Subsidiary or Business Segment     40\n",
            "Government                         17\n",
            "College / University               15\n",
            "Hospital                           15\n",
            "-1                                 11\n",
            "Unknown                            11\n",
            "Other Organization                  5\n",
            "Contract                            5\n",
            "School / School District            2\n",
            "Private Practice / Firm             1\n",
            "Name: count, dtype: int64 \n",
            "\n",
            "최빈값: 'Company - Private'\n",
            "\n",
            "[Ownership_Grouped] 전처리 결과:\n",
            "Ownership_Grouped\n",
            "Private           605\n",
            "Public            237\n",
            "Public Service    114\n",
            "Name: count, dtype: int64 \n",
            "\n"
          ]
        }
      ]
    },
    {
      "cell_type": "markdown",
      "source": [
        "## Rating 전처리\n",
        "- `-1.0`은 평점이 없는 경우 → 결측치로 간주, 평균값 대체"
      ],
      "metadata": {
        "id": "QbY_o_zi9Q1e"
      }
    },
    {
      "cell_type": "code",
      "source": [
        "# ─────────────────────────────────────────────\n",
        "# Rating 전처리\n",
        "# ─────────────────────────────────────────────\n",
        "print(\"[Rating] 유니크 값 및 이상치 확인:\")\n",
        "print(df['Rating'].value_counts(dropna=False), \"\\n\")\n",
        "\n",
        "# -1.0을 결측치로 간주하고 평균값으로 대체, 분포가 왜곡되지 않았으므로 안전\n",
        "df['Rating'] = df['Rating'].replace(-1.0, np.nan)\n",
        "rating_mean = df['Rating'].mean(skipna=True)\n",
        "df['Rating'] = df['Rating'].fillna(rating_mean)\n",
        "\n",
        "# 결과 출력\n",
        "print(\"[Rating] 전처리 결과:\")\n",
        "print(f\"대체된 평균값: {rating_mean:.3f}\")\n",
        "print(f\"고유값 개수: {df['Rating'].nunique()}\")\n",
        "print(f\"상위 값:\\n{df['Rating'].value_counts().head()}\")"
      ],
      "metadata": {
        "colab": {
          "base_uri": "https://localhost:8080/"
        },
        "id": "WT7eSH0o9Y5Y",
        "outputId": "ba9340eb-f251-4f10-a9c6-6414edaa638e"
      },
      "execution_count": 4,
      "outputs": [
        {
          "output_type": "stream",
          "name": "stdout",
          "text": [
            "[Rating] 유니크 값 및 이상치 확인:\n",
            "Rating\n",
            " 3.8    75\n",
            " 3.7    69\n",
            " 3.9    69\n",
            " 3.6    56\n",
            " 4.0    56\n",
            " 3.5    53\n",
            " 3.4    47\n",
            " 4.4    46\n",
            " 3.3    44\n",
            " 4.2    41\n",
            " 4.3    39\n",
            " 4.7    38\n",
            " 4.1    37\n",
            " 3.2    36\n",
            "-1.0    34\n",
            " 3.1    30\n",
            " 5.0    28\n",
            " 2.9    22\n",
            " 4.5    19\n",
            " 4.6    18\n",
            " 3.0    17\n",
            " 2.7    17\n",
            " 4.8    14\n",
            " 2.6    14\n",
            " 2.4     8\n",
            " 2.8     7\n",
            " 2.1     5\n",
            " 4.9     4\n",
            " 2.3     4\n",
            " 2.2     3\n",
            " 1.9     3\n",
            " 2.5     3\n",
            "Name: count, dtype: int64 \n",
            "\n",
            "[Rating] 전처리 결과:\n",
            "대체된 평균값: 3.771\n",
            "고유값 개수: 32\n",
            "상위 값:\n",
            "Rating\n",
            "3.8    75\n",
            "3.7    69\n",
            "3.9    69\n",
            "3.6    56\n",
            "4.0    56\n",
            "Name: count, dtype: int64\n"
          ]
        }
      ]
    }
  ]
}